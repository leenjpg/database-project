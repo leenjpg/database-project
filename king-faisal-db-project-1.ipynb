{
 "cells": [
  {
   "cell_type": "markdown",
   "id": "7b7339db",
   "metadata": {},
   "source": [
    "## Data Requirements\n",
    "\n",
    "### Receptionist\n",
    "- `ReceptionistID (PK)`, Name, PhoneNo, Shift\n",
    "\n",
    "### Patient\n",
    "- `FileNo (PK)`, Name, Age, Gender, PhoneNo, Medical History\n",
    "\n",
    "### Appointment\n",
    "- `AppNo (PK)`, Date, Time, Status (Confirmed/Pending/Canceled)\n",
    "\n",
    "### Doctor\n",
    "- `DoctorID (PK)`, Name, Department, PhoneNo\n"
   ]
  },
  {
   "cell_type": "markdown",
   "id": "e9893320",
   "metadata": {},
   "source": [
    "## Transaction Requirements\n",
    "\n",
    "**Data Entry:**\n",
    "- Register a new patient\n",
    "- Book/confirm appointments\n",
    "\n",
    "**Data Update/Deletion:**\n",
    "- Update medical record\n",
    "- Update/delete appointments\n",
    "- Update/delete patient phone\n",
    "\n",
    "**Data Queries:**\n",
    "- Appointments by date\n",
    "- Doctor list by department\n",
    "- Cancelled appointments\n",
    "- Patients under 18\n",
    "- Shared doctor patients\n",
    "- Shift-specific receptionists\n",
    "- Doctors in room 10\n"
   ]
  },
  {
   "cell_type": "markdown",
   "id": "ffd589a0",
   "metadata": {},
   "source": [
    "## Relational Schema\n",
    "\n",
    "```sql\n",
    "Doctor(DoctorID, FName, LName, RoomNo, Department)\n",
    "Appointment(AppNo, Date, Time, Status, DoctorID, ReceptionistID)\n",
    "Reception(ReceptionistID, FName, LName, PhoneNo, Day, Hours)\n",
    "Patient(FileNo, FName, LName, Age, PhoneNo, MedicalRecord, ReceptionistID)\n",
    "```\n"
   ]
  },
  {
   "cell_type": "markdown",
   "id": "c60565b8",
   "metadata": {},
   "source": [
    "## Data Dictionary Highlights\n",
    "\n",
    "| Entity     | Description                                                  |\n",
    "|------------|--------------------------------------------------------------|\n",
    "| Doctor     | Medical professional                                         |\n",
    "| Appointment| Meeting between patient and doctor                           |\n",
    "| Reception  | Manages appointments and patient info                        |\n",
    "| Patient    | Individual receiving care                                    |\n",
    "\n",
    "**Key Attribute Examples:**\n",
    "- `DoctorID`: CHAR(8), PK\n",
    "- `AppNo`: CHAR(6), PK\n",
    "- `ReceptionistID`: CHAR(8), PK\n",
    "- `FileNo`: CHAR(6), PK\n"
   ]
  },
  {
   "cell_type": "markdown",
   "id": "7cc10168",
   "metadata": {},
   "source": [
    "## Sample Queries\n",
    "\n",
    "```sql\n",
    "-- 1. Patients younger than 18\n",
    "SELECT * FROM Patient WHERE Age < 18;\n",
    "\n",
    "-- 2. Canceled appointments\n",
    "SELECT * FROM Appointment WHERE Status = 'Canceled';\n",
    "\n",
    "-- 3. Doctors in a specific department\n",
    "SELECT FName, LName FROM Doctor WHERE Department = 'Cardiology';\n",
    "\n",
    "-- 4. Doctors in Room 10\n",
    "SELECT * FROM Doctor WHERE RoomNo = '10';\n",
    "\n",
    "-- 5. Patients treated by the same doctor\n",
    "SELECT p1.FName, p2.FName \n",
    "FROM Appointment a1\n",
    "JOIN Appointment a2 ON a1.DoctorID = a2.DoctorID\n",
    "JOIN Patient p1 ON a1.FileNo = p1.FileNo\n",
    "JOIN Patient p2 ON a2.FileNo = p2.FileNo\n",
    "WHERE p1.FileNo != p2.FileNo;\n",
    "```\n"
   ]
  }
 /image_6.png)"
   ]
  },
  {
   "cell_type": "markdown",
   "id": "aca1709d",
   "metadata": {},
   "source": [
    "### Sample Output / Visual\n",
    "\n",
    "![image_10.png](extracted_images/image_10.png)"
   ]
  }
