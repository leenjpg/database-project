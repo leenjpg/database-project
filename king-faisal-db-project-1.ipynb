{
 "cells": [
  {
   "cell_type": "markdown",
   "id": "7b7339db",
   "metadata": {},
   "source": [
    "## Data Requirements\n",
    "\n",
    "### Receptionist\n",
    "- `ReceptionistID (PK)`, Name, PhoneNo, Shift\n",
    "\n",
    "### Patient\n",
    "- `FileNo (PK)`, Name, Age, Gender, PhoneNo, Medical History\n",
    "\n",
    "### Appointment\n",
    "- `AppNo (PK)`, Date, Time, Status (Confirmed/Pending/Canceled)\n",
    "\n",
    "### Doctor\n",
    "- `DoctorID (PK)`, Name, Department, PhoneNo\n"
   ]
  },
  {
   "cell_type": "markdown",
   "id": "e9893320",
   "metadata": {},
   "source": [
    "## Transaction Requirements\n",
    "\n",
    "**Data Entry:**\n",
    "- Register a new patient\n",
    "- Book/confirm appointments\n",
    "\n",
    "**Data Update/Deletion:**\n",
    "- Update medical record\n",
    "- Update/delete appointments\n",
    "- Update/delete patient phone\n",
    "\n",
    "**Data Queries:**\n",
    "- Appointments by date\n",
    "- Doctor list by department\n",
    "- Cancelled appointments\n",
    "- Patients under 18\n",
    "- Shared doctor patients\n",
    "- Shift-specific receptionists\n",
    "- Doctors in room 10\n"
   ]
  },
  {
   "cell_type": "markdown",
   "id": "ffd589a0",
   "metadata": {},
   "source": [
    "## Relational Schema\n",
    "\n",
    "```sql\n",
    "Doctor(DoctorID, FName, LName, RoomNo, Department)\n",
    "Appointment(AppNo, Date, Time, Status, DoctorID, ReceptionistID)\n",
    "Reception(ReceptionistID, FName, LName, PhoneNo, Day, Hours)\n",
    "Patient(FileNo, FName, LName, Age, PhoneNo, MedicalRecord, ReceptionistID)\n",
    "```\n"
   ]
  },
  {
   "cell_type": "markdown",
   "id": "c60565b8",
   "metadata": {},
   "source": [
    "## Data Dictionary Highlights\n",
    "\n",
    "| Entity     | Description                                                  |\n",
    "|------------|--------------------------------------------------------------|\n",
    "| Doctor     | Medical professional                                         |\n",
    "| Appointment| Meeting between patient and doctor                           |\n",
    "| Reception  | Manages appointments and patient info                        |\n",
    "| Patient    | Individual receiving care                                    |\n",
    "\n",
    "**Key Attribute Examples:**\n",
    "- `DoctorID`: CHAR(8), PK\n",
    "- `AppNo`: CHAR(6), PK\n",
    "- `ReceptionistID`: CHAR(8), PK\n",
    "- `FileNo`: CHAR(6), PK\n"
   ]
  },
  {
   "cell_type": "markdown",
   "id": "7cc10168",
   "metadata": {},
   "source": [
    "## Sample Queries\n",
    "\n",
    "```sql\n",
    "-- 1. Patients younger than 18\n",
    "SELECT * FROM Patient WHERE Age < 18;\n",
    "\n",
    "-- 2. Canceled appointments\n",
    "SELECT * FROM Appointment WHERE Status = 'Canceled';\n",
    "\n",
    "-- 3. Doctors in a specific department\n",
    "SELECT FName, LName FROM Doctor WHERE Department = 'Cardiology';\n",
    "\n",
    "-- 4. Doctors in Room 10\n",
    "SELECT * FROM Doctor WHERE RoomNo = '10';\n",
    "\n",
    "-- 5. Patients treated by the same doctor\n",
    "SELECT p1.FName, p2.FName \n",
    "FROM Appointment a1\n",
    "JOIN Appointment a2 ON a1.DoctorID = a2.DoctorID\n",
    "JOIN Patient p1 ON a1.FileNo = p1.FileNo\n",
    "JOIN Patient p2 ON a2.FileNo = p2.FileNo\n",
    "WHERE p1.FileNo != p2.FileNo;\n",
    "```\n"
   ]
  },
  {
   "cell_type": "markdown",
   "id": "735d9513",
   "metadata": {},
   "source": [
    "### Sample Output / Visual\n",
    "\n",
    "![image_1.png](extracted_images/image_1.png)"
   ]
  },
  {
   "cell_type": "markdown",
   "id": "f7eba015",
   "metadata": {},
   "source": [
    "### Sample Output / Visual\n",
    "\n",
    "![image_2.png](extracted_images/image_2.png)"
   ]
  },
  {
   "cell_type": "markdown",
   "id": "f3fd07e5",
   "metadata": {},
   "source": [
    "### Sample Output / Visual\n",
    "\n",
    "![image_3.png](extracted_images/image_3.png)"
   ]
  },
  {
   "cell_type": "markdown",
   "id": "e5eeec77",
   "metadata": {},
   "source": [
    "### Sample Output / Visual\n",
    "\n",
    "![image_4.png](extracted_images/image_4.png)"
   ]
  },
  {
   "cell_type": "markdown",
   "id": "5d2c3764",
   "metadata": {},
   "source": [
    "### Sample Output / Visual\n",
    "\n",
    "![image_5.png](extracted_images/image_5.png)"
   ]
  },
  {
   "cell_type": "markdown",
   "id": "aae90f3b",
   "metadata": {},
   "source": [
    "### Sample Output / Visual\n",
    "\n",
    "![image_6.png](extracted_images/image_6.png)"
   ]
  },
  {
   "cell_type": "markdown",
   "id": "aca1709d",
   "metadata": {},
   "source": [
    "### Sample Output / Visual\n",
    "\n",
    "![image_10.png](extracted_images/image_10.png)"
   ]
  },
  {
   "cell_type": "markdown",
   "id": "b994c4aa",
   "metadata": {},
   "source": [
    "### Sample Output / Visual\n",
    "\n",
    "![image_11.png](extracted_images/image_11.png)"
   ]
  },
  {
   "cell_type": "markdown",
   "id": "c429dd63",
   "metadata": {},
   "source": [
    "### Sample Output / Visual\n",
    "\n",
    "![image_12.png](extracted_images/image_12.png)"
   ]
  },
  {
   "cell_type": "markdown",
   "id": "4f32fc6e",
   "metadata": {},
   "source": [
    "### Sample Output / Visual\n",
    "\n",
    "![image_16.png](extracted_images/image_16.png)"
   ]
  },
  {
   "cell_type": "markdown",
   "id": "57f1c827",
   "metadata": {},
   "source": [
    "### Sample Output / Visual\n",
    "\n",
    "![image_17.png](extracted_images/image_17.png)"
   ]
  },
  {
   "cell_type": "markdown",
   "id": "5824e77f",
   "metadata": {},
   "source": [
    "### Sample Output / Visual\n",
    "\n",
    "![image_18.png](extracted_images/image_18.png)"
   ]
  },
  {
   "cell_type": "markdown",
   "id": "32a6f90c",
   "metadata": {},
   "source": [
    "### Sample Output / Visual\n",
    "\n",
    "![image_19.png](extracted_images/image_19.png)"
   ]
  },
  {
   "cell_type": "markdown",
   "id": "9412037e",
   "metadata": {},
   "source": [
    "### Sample Output / Visual\n",
    "\n",
    "![image_20.png](extracted_images/image_20.png)"
   ]
  },
  {
   "cell_type": "markdown",
   "id": "0240c526",
   "metadata": {},
   "source": [
    "### Sample Output / Visual\n",
    "\n",
    "![image_22.png](extracted_images/image_22.png)"
   ]
  },
  {
   "cell_type": "markdown",
   "id": "54119721",
   "metadata": {},
   "source": [
    "### Sample Output / Visual\n",
    "\n",
    "![image_23.png](extracted_images/image_23.png)"
   ]
  },
  {
   "cell_type": "markdown",
   "id": "97543ccc",
   "metadata": {},
   "source": [
    "### Sample Output / Visual\n",
    "\n",
    "![image_24.png](extracted_images/image_24.png)"
   ]
  },
  {
   "cell_type": "markdown",
   "id": "834a3fff",
   "metadata": {},
   "source": [
    "### Sample Output / Visual\n",
    "\n",
    "![image_25.png](extracted_images/image_25.png)"
   ]
  },
  {
   "cell_type": "markdown",
   "id": "b6a762d6",
   "metadata": {},
   "source": [
    "### Sample Output / Visual\n",
    "\n",
    "![image_26.png](extracted_images/image_26.png)"
   ]
  },
  {
   "cell_type": "markdown",
   "id": "4b75b3c3",
   "metadata": {},
   "source": [
    "### Sample Output / Visual\n",
    "\n",
    "![image_27.png](extracted_images/image_27.png)"
   ]
  },
  {
   "cell_type": "markdown",
   "id": "b5b8d1b7",
   "metadata": {},
   "source": [
    "### Sample Output / Visual\n",
    "\n",
    "![image_28.png](extracted_images/image_28.png)"
   ]
  },
  {
   "cell_type": "markdown",
   "id": "bb68a1c6",
   "metadata": {},
   "source": [
    "### Sample Output / Visual\n",
    "\n",
    "![image_32.png](extracted_images/image_32.png)"
   ]
  },
  {
   "cell_type": "markdown",
   "id": "77fd1a78",
   "metadata": {},
   "source": [
    "### Sample Output / Visual\n",
    "\n",
    "![image_33.png](extracted_images/image_33.png)"
   ]
  },
  {
   "cell_type": "markdown",
   "id": "7874829e",
   "metadata": {},
   "source": [
    "### Sample Output / Visual\n",
    "\n",
    "![image_34.png](extracted_images/image_34.png)"
   ]
  },
  {
   "cell_type": "markdown",
   "id": "0c47ee23",
   "metadata": {},
   "source": [
    "### Sample Output / Visual\n",
    "\n",
    "![image_35.png](extracted_images/image_35.png)"
   ]
  },
  {
   "cell_type": "markdown",
   "id": "dfed936b",
   "metadata": {},
   "source": [
    "### Sample Output / Visual\n",
    "\n",
    "![image_36.png](extracted_images/image_36.png)"
   ]
  },
  {
   "cell_type": "markdown",
   "id": "379711ab",
   "metadata": {},
   "source": [
    "### Sample Output / Visual\n",
    "\n",
    "![image_40.png](extracted_images/image_40.png)"
   ]
  },
  {
   "cell_type": "markdown",
   "id": "7af3047a",
   "metadata": {},
   "source": [
    "### Sample Output / Visual\n",
    "\n",
    "![image_41.png](extracted_images/image_41.png)"
   ]
  },
  {
   "cell_type": "markdown",
   "id": "ff7ccc9b",
   "metadata": {},
   "source": [
    "### Sample Output / Visual\n",
    "\n",
    "![image_42.png](extracted_images/image_42.png)"
   ]
  },
  {
   "cell_type": "markdown",
   "id": "d4d067ed",
   "metadata": {},
   "source": [
    "### Sample Output / Visual\n",
    "\n",
    "![image_43.png](extracted_images/image_43.png)"
   ]
  },
  {
   "cell_type": "markdown",
   "id": "4695e277",
   "metadata": {},
   "source": [
    "### Sample Output / Visual\n",
    "\n",
    "![image_44.png](extracted_images/image_44.png)"
   ]
  }
 ],
 "metadata": {},
 "nbformat": 4,
 "nbformat_minor": 5
}