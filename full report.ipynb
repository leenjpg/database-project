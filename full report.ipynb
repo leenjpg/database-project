{
 "cells": [
  {
   "cell_type": "markdown",
   "id": "7b7339db",
   "metadata": {},
   "source": [
    "## Data Requirements\n",
    "\n",
    "### Receptionist\n",
    "- `ReceptionistID (PK)`, FName, LName, PhoneNO, Day, Hours\n",
    "\n",
    "### Patient\n",
    "- `FileNo (PK)`, FName, LName, Age, PhoneNO, MedicalRecord, ReceptionistID\n",
    "\n",
    "### Appointment\n",
    "- `AppNo (PK)`, Date, Time, Status (Confirmed/Pending/Canceled), DoctorID, ReceptionistID\n",
    "\n",
    "### Doctor\n",
    "- `DoctorID (PK)`, FName, LName, RoomNo, PhoneNO, Department\n"
   ]
  },
  {
   "cell_type": "markdown",
   "id": "e9893320",
   "metadata": {},
   "source": [
    "## Transaction Requirements\n",
    "\n",
    "**Data Entry:**\n",
    "- Register a new patient\n",
    "- Book/confirm appointments\n",
    "\n",
    "**Data Update/Deletion:**\n",
    "- Update medical record\n",
    "- Update/delete appointments\n",
    "- Update/delete patient phone\n",
    "\n",
    "**Data Queries:**\n",
    "- Appointments by date\n",
    "- Doctor list by department\n",
    "- Cancelled appointments\n",
    "- Patients under 18\n",
    "- Shared doctor patients\n",
    "- Shift-specific receptionists\n",
    "- Doctors in room 10\n"
   ]
  },
  {
   "cell_type": "markdown",
   "id": "ffd589a0",
   "metadata": {},
   "source": [
    "## Relational Schema\n",
    "\n",
    "```sql\n",
    "Doctor(DoctorID CHAR(8) PRIMARY KEY, FName VARCHAR(50), LName VARCHAR(50), RoomNO VARCHAR(2), PhoneNO VARCHAR(10), Department VARCHAR(20))\n",
    "Appointment(AppNO CHAR(6) PRIMARY KEY, Date DATE, Time TIME, Status VARCHAR(10), DoctorID CHAR(8), ReceptionistID CHAR(8),\n",
    "    FOREIGN KEY (DoctorID) REFERENCES Doctor(DoctorID),\n",
    "    FOREIGN KEY (ReceptionistID) REFERENCES Reception(ReceptionistID)\n",
    ")\n",
    "Reception(ReceptionistID CHAR(8) PRIMARY KEY, FName VARCHAR(50), LName VARCHAR(50), PhoneNO VARCHAR(10), Day DATE, Hours TIME)\n",
    "Patient(FileNO CHAR(6) PRIMARY KEY, FName VARCHAR(50), LName VARCHAR(50), Age INT, PhoneNO VARCHAR(10), MedicalRecord VARCHAR(100), ReceptionistID CHAR(8),\n",
    "    FOREIGN KEY (ReceptionistID) REFERENCES Reception(ReceptionistID)\n",
    ")\n",
    "```\n"
   ]
  },
  {
   "cell_type": "markdown",
   "id": "data-dict-entities",
   "metadata": {},
   "source": [
    "## Data Dictionary: Description of All Entities\n",
    "\n",
    "| Entity      | Description                                                                                          | Occurrence                                                |\n",
    "|-------------|------------------------------------------------------------------------------------------------------|-----------------------------------------------------------|\n",
    "| Doctor      | A medical professional responsible for providing care to patients. A person who treats patients and has a valid medical certificate. | Assigned to none, one, or many appointments.              |\n",
    "| Appointment | An arrangement for patient to meet a doctor at a particular time and date.                            | An appointment is assigned to one doctor.                 |\n",
    "| Reception   | Manages patient appointments and records, acting as the first point of contact for patients.         | Each receptionist can register zero or many patients. They can book appointments for any patient with any doctor. |\n",
    "| Patient     | A person who is receiving medical care in King Faisal hospital.                                      | Each patient can book zero or many appointments. Registered patients interact with receptionists to schedule appointments with doctors. |\n"
   ]
  },
  {
   "cell_type": "markdown",
   "id": "data-dict-relationships",
   "metadata": {},
   "source": [
    "## Data Dictionary: Description of All Relationships\n",
    "\n",
    "| Entity Name  | Multiplicity | Relationship | Entity Name | Multiplicity |\n",
    "|--------------|--------------|--------------|-------------|--------------|\n",
    "| Appointment  | 0..*         | Assigned     | Doctor      | 1..1         |\n",
    "| Reception    | 1..1         | Book         | Appointment | 0..*         |\n",
    "| Reception    | 1..1         | Register     | Patient     | 0..*         |\n"
   ]
  },
  {
   "cell_type": "markdown",
   "id": "data-dict-attributes",
   "metadata": {},
   "source": [
    "## Data Dictionary: Description of All Attributes\n",
    "\n",
    "| Entity   | Attribute      | Description                                       | Data Type | Length | Nulls | Multi-Valued | Default Value | Range                | PK  |\n",
    "|----------|----------------|-------------------------------------------------|-----------|--------|-------|--------------|---------------|----------------------|-----|\n",
    "| Reception| ReceptionistID | Unique id number assigned to receptionist        | Char      | 8      | No    | No           |               | 0-9                  | Yes |\n",
    "|          | FName          | Receptionist's first name                         | Varchar   | 50     | Yes   | No           |               |                      |     |\n",
    "|          | LName          | Receptionist's last name                          | Varchar   | 50     | Yes   | No           |               |                      |     |\n",
    "|          | PhoneNO        | Receptionist's phone number                       | Varchar   | 10     | Yes   | No           |               | 0-9                  |     |\n",
    "|          | Day            | The date of the day receptionist is on duty      | Date      |        | Yes   | No           |               | 01/01/2024 - 31/12/2024 |     |\n",
    "|          | Hours          | Receptionist's working hours                      | Time      |        | Yes   | No           |               | 12:00am - 11:59pm    |     |\n",
    "\n",
    "| Patient  | FileNo         | Unique number assigned to patient                 | Char      | 6      | No    | No           |               | 0-9                  | Yes |\n",
    "|          | FName          | Patient's first name                              | Varchar   | 50     | Yes   | No           |               |                      |     |\n",
    "|          | LName          | Patient's last name                               | Varchar   | 50     | Yes   | No           |               |                      |     |\n",
    "|          | Age            | Patient's age                                    | Int       |        | Yes   | No           |               |                      |     |\n",
    "|          | PhoneNO        | Patient's phone number                            | Varchar   | 10     | Yes   | No           |               | 0-9                  |     |\n",
    "|          | MedicalRecord  | Record contains information about patient's previous visits | Varchar   | 100    | Yes   | No           |               |                      |     |\n",
    "\n",
    "| Appointment | AppNo        | Unique number assigned to appointment             | Char      | 6      | No    | No           |               | 0-9                  | Yes |\n",
    "|            | Date         | Appointment's date                                | Date      |        | Yes   | No           |               | 01/01/2024 - 31/12/2024 |     |\n",
    "|            | Time         | Appointment time in hours                         | Time      |        | Yes   | No           |               | 12:00am - 11:59pm    |     |\n",
    "|            | Status       | Appointment's visit status                        | Varchar   | 10     | Yes   | No           | 'Confirmed', 'pending', or 'canceled' |     |\n",
    "\n",
    "| Doctor    | DoctorID       | Unique id number assigned to doctor               | Char      | 8      | No    | No           |               | 0-9                  | Yes |\n",
    "|           | FName         | Doctor's first name                               | Varchar   | 50     | Yes   | No           |               |                      |     |\n",
    "|           | LName         | Doctor's last name                                | Varchar   | 50     | Yes   | No           |               |                      |     |\n",
    "|           | RoomNO        | Doctor's room number in the clinic                | Varchar   | 2      | Yes   | No           |               | 1-50                 |     |\n",
    "|           | PhoneNO       | Doctor's phone number                             | Varchar   | 10     | Yes   | No           |               | 0-9                  |     |\n",
    "|           | Department    | Doctor's specialty                               | Varchar   | 20     | Yes   | No           |               |                      |     |\n"
   ]
  },
  {
   "cell_type": "markdown",
   "id": "7cc10168",
   "metadata": {},
   "source": [
    "## Sample Queries\n",
    "\n",
    "```sql\n",
    "-- 1. Display patients who are younger than 18\n",
    "SELECT * FROM Patient WHERE Age < 18;\n",
    "\n",
    "-- 2. Display canceled appointments\n",
    "SELECT * FROM Appointment WHERE Status = 'Canceled';\n",
    "\n",
    "-- 3. Display doctors in a specific department (example: Cardiology)\n",
    "SELECT FName, LName FROM Doctor WHERE Department = 'Cardiology';\n",
    "\n",
    "-- 4. List all doctors who have worked in room number 10\n",
    "SELECT * FROM Doctor WHERE RoomNO = '10';\n",
    "\n",
    "-- 5. Returns all appointments scheduled for October 22nd\n",
    "SELECT * FROM Appointment WHERE Date = '2024-10-22';\n",
    "\n",
    "-- 6. Display patients treated by the same doctor\n",
    "SELECT DISTINCT p1.FName AS Patient1, p2.FName AS Patient2, a1.DoctorID\n",
    "FROM Appointment a1\n",
    "JOIN Appointment a2 ON a1.DoctorID = a2.DoctorID AND a1.AppNO != a2.AppNO\n",
    "JOIN Patient p1 ON a1.FileNO = p1.FileNO\n",
    "JOIN Patient p2 ON a2.FileNO = p2.FileNO\n",
    "WHERE p1.FileNO != p2.FileNO;\n",
    "\n",
    "-- 7. Display receptionists working a specific shift (example: Hours = '09:00:00')\n",
    "SELECT * FROM Reception WHERE Hours = '09:00:00';\n"
   ]
  },
  {
   "cell_type": "markdown",
   "id": "customqueries1",
   "metadata": {},
   "source": [
    "## Sample Query Descriptions\n",
    "\n",
    "- Display patients who are younger than 18 years old.\n",
    "- Display names of doctors in a certain department.\n",
    "- List all doctors who have worked in room number 10.\n",
    "- Returns all appointments scheduled for October 22nd.\n"
   ]
  }
 ],
 "metadata": {
  "kernelspec": {
   "display_name": "Python 3",
   "language": "python",
   "name": "python3"
  },
  "language_info": {
   "name": "python",
   "version": "3.9"
  }
 },
 "nbformat": 4,
 "nbformat_minor": 5
}
