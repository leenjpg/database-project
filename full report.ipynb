{
 "cells": [
  {
   "cell_type": "markdown",
   "id": "7b7339db",
   "metadata": {},
   "source": [
    "## Data Requirements\n",
    "\n",
    "### Receptionist\n",
    "- `ReceptionistID (PK)`, FName, LName, PhoneNO, Day, Hours\n",
    "\n",
    "### Patient\n",
    "- `FileNo (PK)`, FName, LName, Age, PhoneNO, MedicalRecord, ReceptionistID\n",
    "\n",
    "### Appointment\n",
    "- `AppNo (PK)`, Date, Time, Status (Confirmed/Pending/Canceled), DoctorID, ReceptionistID\n",
    "\n",
    "### Doctor\n",
    "- `DoctorID (PK)`, FName, LName, RoomNo, PhoneNO, Department\n"
   ]
  },
  {
   "cell_type": "markdown",
   "id": "e9893320",
   "metadata": {},
   "source": [
    "## Transaction Requirements\n",
    "\n",
    "**Data Entry:**\n",
    "- Register a new patient\n",
    "- Book/confirm appointments\n",
    "\n",
    "**Data Update/Deletion:**\n",
    "- Update medical record\n",
    "- Update/delete appointments\n",
    "- Update/delete patient phone\n",
    "\n",
    "**Data Queries:**\n",
    "- Appointments by date\n",
    "- Doctor list by department\n",
    "- Cancelled appointments\n",
    "- Patients under 18\n",
    "- Shared doctor patients\n",
    "- Shift-specific receptionists\n",
    "- Doctors in room 10\n"
   ]
  },
  {
   "cell_type": "markdown",
   "id": "ffd589a0",
   "metadata": {},
   "source": [
    "## Relational Schema\n",
    "\n",
    "```sql\n",
    "Doctor(DoctorID CHAR(8) PRIMARY KEY, FName VARCHAR(50), LName VARCHAR(50), RoomNO VARCHAR(2), PhoneNO VARCHAR(10), Department VARCHAR(20))\n",
    "Appointment(AppNO CHAR(6) PRIMARY KEY, Date DATE, Time TIME, Status VARCHAR(10), DoctorID CHAR(8), ReceptionistID CHAR(8),\n",
    "    FOREIGN KEY (DoctorID) REFERENCES Doctor(DoctorID),\n",
    "    FOREIGN KEY (ReceptionistID) REFERENCES Reception(ReceptionistID)\n",
    ")\n",
    "Reception(ReceptionistID CHAR(8) PRIMARY KEY, FName VARCHAR(50), LName VARCHAR(50), PhoneNO VARCHAR(10), Day DATE, Hours TIME)\n",
    "Patient(FileNO CHAR(6) PRIMARY KEY, FName VARCHAR(50), LName VARCHAR(50), Age INT, PhoneNO VARCHAR(10), MedicalRecord VARCHAR(100), ReceptionistID CHAR(8),\n",
    "    FOREIGN KEY (ReceptionistID) REFERENCES Reception(ReceptionistID)\n",
    ")\n",
    "```\n"
   ]
  },
  {
   "cell_type": "markdown",
   "id": "c60565b8",
   "metadata": {},
   "source": [
    "## Data Dictionary Highlights\n",
    "\n",
    "| Entity      | Description                                                             | Data Types & Constraints                                  |\n",
    "|-------------|-------------------------------------------------------------------------|-----------------------------------------------------------|\n",
    "| Doctor      | Medical professional with valid certificate, assigned to appointments   | DoctorID CHAR(8) PK, FName VARCHAR(50), LName VARCHAR(50), RoomNO VARCHAR(2), PhoneNO VARCHAR(10), Department VARCHAR(20) |\n",
    "| Appointment | Arrangement for patient to meet a doctor on a specific date and time    | AppNO CHAR(6) PK, Date DATE, Time TIME, Status VARCHAR(10) (Confirmed/Pending/Canceled), DoctorID FK, ReceptionistID FK |\n",
    "| Reception   | Manages appointments and patient records                               | ReceptionistID CHAR(8) PK, FName VARCHAR(50), LName VARCHAR(50), PhoneNO VARCHAR(10), Day DATE, Hours TIME |\n",
    "| Patient     | Person receiving medical care, registered through reception             | FileNO CHAR(6) PK, FName VARCHAR(50), LName VARCHAR(50), Age INT, PhoneNO VARCHAR(10), MedicalRecord VARCHAR(100), ReceptionistID FK |\n"
   ]
  },
  {
   "cell_type": "markdown",
   "id": "7cc10168",
   "metadata": {},
   "source": [
    "## Sample Queries\n",
    "\n",
    "```sql\n",
    "-- 1. Display patients who are younger than 18\n",
    "SELECT * FROM Patient WHERE Age < 18;\n",
    "\n",
    "-- 2. Display canceled appointments\n",
    "SELECT * FROM Appointment WHERE Status = 'Canceled';\n",
    "\n",
    "-- 3. Display doctors in a specific department (example: Cardiology)\n",
    "SELECT FName, LName FROM Doctor WHERE Department = 'Cardiology';\n",
    "\n",
    "-- 4. List all doctors who have worked in room number 10\n",
    "SELECT * FROM Doctor WHERE RoomNO = '10';\n",
    "\n",
    "-- 5. Returns all appointments scheduled for October 22nd\n",
    "SELECT * FROM Appointment WHERE Date = '2024-10-22';\n",
    "\n",
    "-- 6. Display patients treated by the same doctor\n",
    "SELECT DISTINCT p1.FName AS Patient1, p2.FName AS Patient2, a1.DoctorID\n",
    "FROM Appointment a1\n",
    "JOIN Appointment a2 ON a1.DoctorID = a2.DoctorID AND a1.AppNO != a2.AppNO\n",
    "JOIN Patient p1 ON a1.FileNO = p1.FileNO\n",
    "JOIN Patient p2 ON a2.FileNO = p2.FileNO\n",
    "WHERE p1.FileNO != p2.FileNO;\n",
    "\n",
    "-- 7. Display receptionists working a specific shift (example: Hours = '09:00:00')\n",
    "SELECT * FROM Reception WHERE Hours = '09:00:00';\n"
   ]
  },
  {
   "cell_type": "markdown",
   "id": "customqueries1",
   "metadata": {},
   "source": [
    "## Sample Query Descriptions\n",
    "\n",
    "- Display patients who are younger than 18 years old.\n",
    "- Display names of doctors in a certain department.\n",
    "- List all doctors who have worked in room number 10.\n",
    "- Returns all appointments scheduled for October 22nd.\n"
   ]
  }
 ],
 "metadata": {
  "kernelspec": {
   "display_name": "Python 3",
   "language": "python",
   "name": "python3"
  },
  "language_info": {
   "name": "python",
   "version": "3.9"
  }
 },
 "nbformat": 4,
 "nbformat_minor": 5
}

